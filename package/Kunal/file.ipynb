{
 "cells": [
  {
   "cell_type": "code",
   "execution_count": 1,
   "id": "144e8032",
   "metadata": {},
   "outputs": [
    {
     "name": "stdout",
     "output_type": "stream",
     "text": [
      "c:\\Users\\kunal\\Downloads\\Programs\\package\\Kunal\n"
     ]
    }
   ],
   "source": [
    "import os\n",
    "print(os.getcwd())"
   ]
  },
  {
   "cell_type": "code",
   "execution_count": 2,
   "id": "e7e179a4",
   "metadata": {},
   "outputs": [],
   "source": [
    "os.mkdir('Kunal') #create new directory"
   ]
  },
  {
   "cell_type": "code",
   "execution_count": 3,
   "id": "bec58288",
   "metadata": {},
   "outputs": [
    {
     "data": {
      "text/plain": [
       "'destination.txt'"
      ]
     },
     "execution_count": 3,
     "metadata": {},
     "output_type": "execute_result"
    }
   ],
   "source": [
    "import shutil\n",
    "shutil.copyfile('sourece.txt','destination.txt')"
   ]
  },
  {
   "cell_type": "code",
   "execution_count": 4,
   "id": "058b5a69",
   "metadata": {},
   "outputs": [
    {
     "name": "stdout",
     "output_type": "stream",
     "text": [
      "{\"name\": \"kunal\", \"age\": 23}\n",
      "<class 'str'>\n",
      "{'name': 'kunal', 'age': 23}\n",
      "<class 'dict'>\n"
     ]
    }
   ],
   "source": [
    "import json\n",
    "data = {'name': 'kunal','age' : 23}\n",
    "\n",
    "json_str = json.dumps(data)\n",
    "print(json_str)\n",
    "print(type(json_str))\n",
    "\n",
    "parsed_data = json.loads(json_str)\n",
    "print(parsed_data)\n",
    "print(type(parsed_data))"
   ]
  },
  {
   "cell_type": "code",
   "execution_count": 5,
   "id": "27e92460",
   "metadata": {},
   "outputs": [
    {
     "name": "stdout",
     "output_type": "stream",
     "text": [
      "['name', 'age']\n",
      "['kunal', '23']\n"
     ]
    }
   ],
   "source": [
    "import csv\n",
    "with open('example.csv',mode='w',newline='') as file:\n",
    "    writer= csv.writer(file)\n",
    "    writer.writerow(['name','age'])\n",
    "    writer.writerow(['kunal',23])\n",
    "\n",
    "\n",
    "with open('example.csv',mode='r') as file:\n",
    "    reader= csv.reader(file)\n",
    "    for row in reader:\n",
    "        print(row)\n"
   ]
  },
  {
   "cell_type": "code",
   "execution_count": 6,
   "id": "8dec1d16",
   "metadata": {},
   "outputs": [
    {
     "name": "stdout",
     "output_type": "stream",
     "text": [
      "2025-05-03 20:04:40.346690\n",
      "2025-05-02 20:04:40.346690\n"
     ]
    }
   ],
   "source": [
    "from datetime import datetime,timedelta\n",
    "now = datetime.now()\n",
    "print(now)\n",
    "\n",
    "yesterday= now - timedelta(days=1)\n",
    "\n",
    "print(yesterday)"
   ]
  },
  {
   "cell_type": "code",
   "execution_count": 7,
   "id": "c5489b8c",
   "metadata": {},
   "outputs": [
    {
     "name": "stdout",
     "output_type": "stream",
     "text": [
      "1746282880.3616915\n",
      "1746282882.371461\n"
     ]
    }
   ],
   "source": [
    "import time \n",
    "print(time.time())\n",
    "time.sleep(2)\n",
    "print(time.time())\n",
    "\n"
   ]
  },
  {
   "cell_type": "code",
   "execution_count": 8,
   "id": "93fa8f1a",
   "metadata": {},
   "outputs": [
    {
     "name": "stdout",
     "output_type": "stream",
     "text": [
      "1123\n"
     ]
    }
   ],
   "source": [
    "import re\n",
    "\n",
    "pattern='\\d+'\n",
    "text =\"hello thier 1123 apples \"\n",
    "match = re.search(pattern,text)\n",
    "print(match.group())"
   ]
  },
  {
   "cell_type": "code",
   "execution_count": 9,
   "id": "4529bdc1",
   "metadata": {},
   "outputs": [
    {
     "name": "stdout",
     "output_type": "stream",
     "text": [
      "hi hello \n",
      "how are you\n"
     ]
    }
   ],
   "source": [
    "with open('sourece.txt','r') as file:\n",
    "    content= file.read()\n",
    "    print(content)"
   ]
  },
  {
   "cell_type": "code",
   "execution_count": 10,
   "id": "10472216",
   "metadata": {},
   "outputs": [
    {
     "name": "stdout",
     "output_type": "stream",
     "text": [
      "hi hello \n",
      "how are you\n"
     ]
    }
   ],
   "source": [
    "with open('sourece.txt','r') as file:\n",
    "    content= file.read()\n",
    "    print(content)"
   ]
  },
  {
   "cell_type": "code",
   "execution_count": 11,
   "id": "07f94b3e",
   "metadata": {},
   "outputs": [],
   "source": [
    "with open('sourece.txt','w') as file:\n",
    "    file.write(\"hello world!\\n\")\n",
    "    file.newlines\n",
    "    file.write(\"This is a new line\")"
   ]
  },
  {
   "cell_type": "code",
   "execution_count": 12,
   "id": "b0a2e7a3",
   "metadata": {},
   "outputs": [],
   "source": [
    "with open('sourece.txt','a') as file:\n",
    "    file.write(\"This append mode\")"
   ]
  },
  {
   "cell_type": "code",
   "execution_count": 13,
   "id": "d1661d39",
   "metadata": {},
   "outputs": [],
   "source": [
    "with open('sourece.txt','r') as source_file:\n",
    "    content=source_file.read()\n",
    "\n",
    "with open('destination.txt','w') as Destination_file:\n",
    "    Destination_file.write(content)"
   ]
  },
  {
   "cell_type": "code",
   "execution_count": 14,
   "id": "85c05998",
   "metadata": {},
   "outputs": [
    {
     "name": "stdout",
     "output_type": "stream",
     "text": [
      "lines:2,words:9,char:47\n"
     ]
    }
   ],
   "source": [
    "def count_text_file(file_path):\n",
    "    with open(file_path,'r') as file:\n",
    "        lines = file.readlines()\n",
    "        lines_count =len(lines)\n",
    "        word_count = sum(len(line.split())for line in lines)\n",
    "        char_count = sum(len(line)for line in lines)\n",
    "    return  lines_count,word_count,char_count\n",
    "\n",
    "\n",
    "file_path = \"destination.txt\"\n",
    "lines,words,characters = count_text_file(file_path)\n",
    "\n",
    "print(f'lines:{lines},words:{words},char:{characters}')\n",
    "\n",
    "\n",
    "\n"
   ]
  },
  {
   "cell_type": "code",
   "execution_count": 15,
   "id": "a7a05af8",
   "metadata": {},
   "outputs": [
    {
     "ename": "FileExistsError",
     "evalue": "[WinError 183] Cannot create a file when that file already exists: 'Engineering'",
     "output_type": "error",
     "traceback": [
      "\u001b[1;31m---------------------------------------------------------------------------\u001b[0m",
      "\u001b[1;31mFileExistsError\u001b[0m                           Traceback (most recent call last)",
      "Cell \u001b[1;32mIn[15], line 4\u001b[0m\n\u001b[0;32m      2\u001b[0m \u001b[38;5;28;01mimport\u001b[39;00m  \u001b[38;5;21;01mos\u001b[39;00m\n\u001b[0;32m      3\u001b[0m new_directory\u001b[38;5;241m=\u001b[39m \u001b[38;5;124m\"\u001b[39m\u001b[38;5;124mEngineering\u001b[39m\u001b[38;5;124m\"\u001b[39m\n\u001b[1;32m----> 4\u001b[0m \u001b[43mos\u001b[49m\u001b[38;5;241;43m.\u001b[39;49m\u001b[43mmkdir\u001b[49m\u001b[43m(\u001b[49m\u001b[43mnew_directory\u001b[49m\u001b[43m)\u001b[49m\n\u001b[0;32m      5\u001b[0m \u001b[38;5;28mprint\u001b[39m(\u001b[38;5;124mf\u001b[39m\u001b[38;5;124m\"\u001b[39m\u001b[38;5;124mDirectory \u001b[39m\u001b[38;5;132;01m{\u001b[39;00mnew_directory\u001b[38;5;132;01m}\u001b[39;00m\u001b[38;5;124m created\u001b[39m\u001b[38;5;124m\"\u001b[39m)\n",
      "\u001b[1;31mFileExistsError\u001b[0m: [WinError 183] Cannot create a file when that file already exists: 'Engineering'"
     ]
    }
   ],
   "source": [
    "# create new directory\n",
    "import  os\n",
    "new_directory= \"Engineering\"\n",
    "os.mkdir(new_directory)\n",
    "print(f\"Directory {new_directory} created\")"
   ]
  },
  {
   "cell_type": "code",
   "execution_count": null,
   "id": "5c630bfb",
   "metadata": {},
   "outputs": [],
   "source": []
  },
  {
   "cell_type": "code",
   "execution_count": null,
   "id": "2a6b2015",
   "metadata": {},
   "outputs": [
    {
     "name": "stdout",
     "output_type": "stream",
     "text": [
      "['destination.txt', 'Engineering', 'example.csv', 'file.ipynb', 'maths.py', 'practice.py', 'sourece.txt', 'subpackage.py', '__init__.py']\n"
     ]
    }
   ],
   "source": [
    "#listing directory and files\n",
    "\n",
    "items=os.listdir('.')\n",
    "print(items)"
   ]
  },
  {
   "cell_type": "code",
   "execution_count": null,
   "id": "01ca5889",
   "metadata": {},
   "outputs": [
    {
     "name": "stdout",
     "output_type": "stream",
     "text": [
      "folder\\file.txt\n"
     ]
    }
   ],
   "source": [
    "##joing paths\n",
    "\n",
    "dir_name='folder'\n",
    "file_name='file.txt'\n",
    "full__path = os.path.join(dir_name,file_name)\n",
    "print(full__path)"
   ]
  },
  {
   "cell_type": "code",
   "execution_count": null,
   "id": "3ae04bb2",
   "metadata": {},
   "outputs": [
    {
     "name": "stdout",
     "output_type": "stream",
     "text": [
      "c:\\Users\\kunal\\Downloads\\Programs\\package\\Kunal\\folder\\file.txt\n"
     ]
    }
   ],
   "source": [
    "\n",
    "dir_name='folder'\n",
    "file_name='file.txt'\n",
    "full__path = os.path.join(os.getcwd(), dir_name,file_name)\n",
    "print(full__path)"
   ]
  },
  {
   "cell_type": "code",
   "execution_count": null,
   "id": "4eccc563",
   "metadata": {},
   "outputs": [
    {
     "name": "stdout",
     "output_type": "stream",
     "text": [
      "the path Example.txt does not exists\n"
     ]
    }
   ],
   "source": [
    "#to check wheather text is there or not\n",
    "\n",
    "\n",
    "path='Example.txt'\n",
    "if os.path.exists(path):\n",
    "    print(f'the path {path} exists')\n",
    "else:\n",
    "    print(f'the path {path} does not exists')\n"
   ]
  }
 ],
 "metadata": {
  "kernelspec": {
   "display_name": "base",
   "language": "python",
   "name": "python3"
  },
  "language_info": {
   "codemirror_mode": {
    "name": "ipython",
    "version": 3
   },
   "file_extension": ".py",
   "mimetype": "text/x-python",
   "name": "python",
   "nbconvert_exporter": "python",
   "pygments_lexer": "ipython3",
   "version": "3.10.9"
  }
 },
 "nbformat": 4,
 "nbformat_minor": 5
}

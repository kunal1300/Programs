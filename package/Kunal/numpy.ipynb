{
 "cells": [
  {
   "cell_type": "code",
   "execution_count": 3,
   "id": "cf1b5b76",
   "metadata": {},
   "outputs": [
    {
     "name": "stdout",
     "output_type": "stream",
     "text": [
      "[1 2 3 4 5 6 7 8 9]\n",
      "<class 'numpy.ndarray'>\n",
      "(9,)\n"
     ]
    }
   ],
   "source": [
    "import numpy as np\n",
    "\n",
    "arry = np.array([1,2,3,4,5,6,7,8,9])\n",
    "print(arry)\n",
    "print(type(arry))\n",
    "print(arry.shape)#use for length "
   ]
  },
  {
   "cell_type": "code",
   "execution_count": 11,
   "id": "0a06dbad",
   "metadata": {},
   "outputs": [
    {
     "data": {
      "text/plain": [
       "array([[1, 2, 4, 5, 6, 4, 8, 1, 8, 4, 3, 4, 6]])"
      ]
     },
     "execution_count": 11,
     "metadata": {},
     "output_type": "execute_result"
    }
   ],
   "source": [
    "a=np.array([1,2,4,5,6,4,8,1,8,4,3,4,6])\n",
    "a.reshape(1,13)"
   ]
  },
  {
   "cell_type": "code",
   "execution_count": 129,
   "id": "e0778808",
   "metadata": {},
   "outputs": [
    {
     "data": {
      "text/plain": [
       "array([[1, 2, 3, 4, 5]])"
      ]
     },
     "execution_count": 129,
     "metadata": {},
     "output_type": "execute_result"
    }
   ],
   "source": [
    "array2= np.array([1,2,3,4,5])\n",
    "array2.reshape(1,5)# 1 row 5 col"
   ]
  },
  {
   "cell_type": "code",
   "execution_count": 7,
   "id": "525894d3",
   "metadata": {},
   "outputs": [
    {
     "data": {
      "text/plain": [
       "(1, 5)"
      ]
     },
     "execution_count": 7,
     "metadata": {},
     "output_type": "execute_result"
    }
   ],
   "source": [
    "array2= np.array([[1,2,3,4,5]])\n",
    "array2.shape"
   ]
  },
  {
   "cell_type": "code",
   "execution_count": 9,
   "id": "4800aded",
   "metadata": {},
   "outputs": [
    {
     "name": "stdout",
     "output_type": "stream",
     "text": [
      "(2, 5)\n"
     ]
    },
    {
     "data": {
      "text/plain": [
       "array([[  1,   2,   3,   4,   5],\n",
       "       [ 56, 654,  47,  49,  61]])"
      ]
     },
     "execution_count": 9,
     "metadata": {},
     "output_type": "execute_result"
    }
   ],
   "source": [
    "array2= np.array([[1,2,3,4,5],[56,654,47,49,61]])\n",
    "print(array2.shape)\n",
    "array2\n"
   ]
  },
  {
   "cell_type": "code",
   "execution_count": 11,
   "id": "a5fcffde",
   "metadata": {
    "notebookRunGroups": {
     "groupValue": "2"
    }
   },
   "outputs": [
    {
     "data": {
      "text/plain": [
       "array([[0],\n",
       "       [2],\n",
       "       [4],\n",
       "       [6],\n",
       "       [8]])"
      ]
     },
     "execution_count": 11,
     "metadata": {},
     "output_type": "execute_result"
    }
   ],
   "source": [
    "np.arange(0,10,2).reshape(5,1)"
   ]
  },
  {
   "cell_type": "code",
   "execution_count": 25,
   "id": "0b4ab23b",
   "metadata": {},
   "outputs": [
    {
     "name": "stdout",
     "output_type": "stream",
     "text": [
      "array [[  1   2   3   4   5]\n",
      " [ 56 654  47  49  61]]\n",
      "Shape (2, 5)\n",
      "number of dimention 2\n",
      "size of elements 10\n",
      "data-type int32\n",
      "item size(in bytes) 4\n"
     ]
    }
   ],
   "source": [
    "array2= np.array([[1,2,3,4,5],[56,654,47,49,61]])\n",
    "print('array',array2)\n",
    "print('Shape',array2.shape)\n",
    "print('number of dimention',array2.ndim)\n",
    "print('size of elements',array2.size)\n",
    "print('data-type',array2.dtype)\n",
    "print('item size(in bytes)',array2.itemsize)"
   ]
  },
  {
   "cell_type": "code",
   "execution_count": 28,
   "id": "8f520763",
   "metadata": {},
   "outputs": [
    {
     "name": "stdout",
     "output_type": "stream",
     "text": [
      "addition: [ 7  9 11 13 15]\n"
     ]
    }
   ],
   "source": [
    "array1=np.array([1,2,3,4,5])\n",
    "array2=np.array([6,7,8,9,10])\n",
    "\n",
    "print('addition:',array1+array2)\n"
   ]
  },
  {
   "cell_type": "code",
   "execution_count": 32,
   "id": "2c83f043",
   "metadata": {},
   "outputs": [
    {
     "name": "stdout",
     "output_type": "stream",
     "text": [
      "Addition [14  6 27 98 44]\n",
      "subtraction [-10   0 -19  12  20]\n",
      "multiplication [  24    9   92 2365  384]\n",
      "division [0.16666667 1.         0.17391304 1.27906977 2.66666667]\n"
     ]
    }
   ],
   "source": [
    "a=np.array([2,3,4,55,32])\n",
    "b=np.array([12,3,23,43,12])\n",
    "\n",
    "\n",
    "print('Addition',a+b )\n",
    "\n",
    "print('subtraction',a-b)\n",
    "\n",
    "print('multiplication',a*b)\n",
    "\n",
    "print('division',a/b)\n"
   ]
  },
  {
   "cell_type": "code",
   "execution_count": 38,
   "id": "bb8c3032",
   "metadata": {},
   "outputs": [
    {
     "name": "stdout",
     "output_type": "stream",
     "text": [
      "[1.         1.41421356 1.73205081 2.         2.23606798]\n",
      "[ 0.84147098  0.90929743  0.14112001 -0.7568025  -0.95892427]\n",
      "[ 0.54030231 -0.41614684 -0.9899925  -0.65364362  0.28366219]\n"
     ]
    }
   ],
   "source": [
    "arra=np.array([1,2,3,4,5])\n",
    "\n",
    "print(np.sqrt(arra))\n",
    "                \n",
    "print(np.sin(arra))\n",
    "\n",
    "print(np.cos(arra))"
   ]
  },
  {
   "cell_type": "code",
   "execution_count": 60,
   "id": "f5f7d7fc",
   "metadata": {},
   "outputs": [
    {
     "name": "stdout",
     "output_type": "stream",
     "text": [
      "[[  1   2   3   4   5]\n",
      " [  2   3   4   5   6]\n",
      " [ 23  45   4   3 343]]\n"
     ]
    }
   ],
   "source": [
    "arru1=np.array([[1,2,3,4,5],[2,3,4,5,6],[23,45,4,3,343]])\n",
    "print(arru1)\n"
   ]
  },
  {
   "cell_type": "code",
   "execution_count": null,
   "id": "0c0556fe",
   "metadata": {},
   "outputs": [
    {
     "data": {
      "text/plain": [
       "array([[1, 2],\n",
       "       [2, 3]])"
      ]
     },
     "execution_count": 74,
     "metadata": {},
     "output_type": "execute_result"
    }
   ],
   "source": [
    "arru1[0:2,0:2] #row #col\n",
    "\n",
    "\n"
   ]
  },
  {
   "cell_type": "code",
   "execution_count": 83,
   "id": "4f9f854c",
   "metadata": {},
   "outputs": [
    {
     "name": "stdout",
     "output_type": "stream",
     "text": [
      "[[  1   2   3   4   5]\n",
      " [  2   3   4   5   6]\n",
      " [ 23  45   4   3 343]]\n",
      "-----------------------\n",
      "-----------------------\n",
      "[[100   2   3   4   5]\n",
      " [  2   3   4   5   6]\n",
      " [ 23  45   4   3 343]]\n",
      "-----------------------\n",
      "[[100   2   3   4   5]\n",
      " [100 100 100 100 100]\n",
      " [100 100 100 100 100]]\n"
     ]
    }
   ],
   "source": [
    "arru1=np.array([[1,2,3,4,5],[2,3,4,5,6],[23,45,4,3,343]])\n",
    "print(arru1)\n",
    "print('-----------------------')\n",
    "arru1[0,0]= 100\n",
    "print('-----------------------')\n",
    "print(arru1)\n",
    "print('-----------------------')\n",
    "arru1[1:3]= 100\n",
    "print(arru1)"
   ]
  },
  {
   "cell_type": "code",
   "execution_count": 105,
   "id": "ca6dcf61",
   "metadata": {},
   "outputs": [
    {
     "name": "stdout",
     "output_type": "stream",
     "text": [
      "[1 2 3 4 5]\n",
      "mean =  3.0\n",
      "Sorted = [1 2 3 4 5]\n",
      "Median = 3.0\n",
      "Standard deviation = 1.4142135623730951\n",
      "Normalization [-1.41421356 -0.70710678  0.          0.70710678  1.41421356]\n",
      "add =  15\n"
     ]
    }
   ],
   "source": [
    "apta=np.array([1,2,3,4,5])\n",
    "print(apta)\n",
    "mean=np.mean(apta)\n",
    "print('mean = ',mean)\n",
    "print('Sorted =',np.sort(apta))\n",
    "median = np.median(apta)\n",
    "print('Median =',median)\n",
    "\n",
    "std_dev =np.std(apta)\n",
    "print('Standard deviation =',std_dev)\n",
    "\n",
    "\n",
    "normalization= (apta - mean)/std_dev\n",
    "print('Normalization',normalization)\n",
    "\n",
    "add = np.sum(apta)\n",
    "print('add = ',add)"
   ]
  },
  {
   "cell_type": "code",
   "execution_count": 127,
   "id": "8e4da716",
   "metadata": {},
   "outputs": [
    {
     "name": "stdout",
     "output_type": "stream",
     "text": [
      "[3 4 3 2]\n"
     ]
    }
   ],
   "source": [
    "data =np.array([1,3,4,22,3,2])\n",
    "\n",
    "print(data[(data>=2)&(data<=8)])\n"
   ]
  },
  {
   "cell_type": "code",
   "execution_count": null,
   "id": "3961f809",
   "metadata": {},
   "outputs": [],
   "source": []
  }
 ],
 "metadata": {
  "kernelspec": {
   "display_name": "base",
   "language": "python",
   "name": "python3"
  },
  "language_info": {
   "codemirror_mode": {
    "name": "ipython",
    "version": 3
   },
   "file_extension": ".py",
   "mimetype": "text/x-python",
   "name": "python",
   "nbconvert_exporter": "python",
   "pygments_lexer": "ipython3",
   "version": "3.10.9"
  }
 },
 "nbformat": 4,
 "nbformat_minor": 5
}
